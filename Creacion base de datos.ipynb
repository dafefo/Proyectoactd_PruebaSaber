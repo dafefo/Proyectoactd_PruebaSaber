{
 "cells": [
  {
   "cell_type": "code",
   "execution_count": 6,
   "metadata": {},
   "outputs": [],
   "source": [
    "sql_script = \"\"\"\n",
    "CREATE TABLE datapruebasaber(\n",
    "    cole_area_ubicacion char(50),\n",
    "    cole_bilingue char(50),\n",
    "    cole_calendario char(50),\n",
    "    cole_caracter char(50),\n",
    "    cole_cod_depto_ubicacion INT,\n",
    "    estu_depto_reside char(50),\n",
    "    cole_cod_mcpio_ubicacion char(50),\n",
    "    cole_genero char(50),\n",
    "    cole_jornada char(50),\n",
    "    cole_naturaleza char(50),\n",
    "    estu_genero char(50),\n",
    "    fami_cuartoshogar char(50),\n",
    "    fami_educacionmadre char(50),\n",
    "    fami_educacionpadre char(50),\n",
    "    fami_estratovivienda char(50),\n",
    "    fami_personashogar char(50),\n",
    "    fami_tieneautomovil char(10),\n",
    "    fami_tienecomputador char(10),\n",
    "    fami_tieneinternet char(10),\n",
    "    fami_tienelavadora char(10),\n",
    "    punt_global INT\n",
    "\n",
    ");\n",
    "\"\"\""
   ]
  },
  {
   "cell_type": "code",
   "execution_count": 7,
   "metadata": {},
   "outputs": [],
   "source": [
    "sql_script += 'INSERT INTO datapruebasaber(cole_area_ubicacion, cole_bilingue,cole_calendario,cole_caracter,cole_cod_depto_ubicacion, cole_cod_depto_ubicacion, estu_depto_reside,cole_cod_mcpio_ubicacion,cole_genero,cole_jornada,cole_naturaleza,estu_genero,fami_cuartoshogar,fami_educacionmadre,fami_educacionpadre,fami_estratovivienda,fami_personashogar,fami_tieneautomovil,fami_tienecomputador,fami_tieneinternet,fami_tienelavadora,punt_global) VALUES\\n'\n"
   ]
  },
  {
   "cell_type": "code",
   "execution_count": 5,
   "metadata": {},
   "outputs": [
    {
     "name": "stdout",
     "output_type": "stream",
     "text": [
      "  cole_area_ubicacion cole_bilingue cole_calendario      cole_caracter  \\\n",
      "0              URBANO             S               A          ACADÉMICO   \n",
      "1              URBANO             N               A          ACADÉMICO   \n",
      "2              URBANO             N               A          ACADÉMICO   \n",
      "3              URBANO             N               A  TÉCNICO/ACADÉMICO   \n",
      "4               RURAL             N               A  TÉCNICO/ACADÉMICO   \n",
      "\n",
      "   cole_cod_depto_ubicacion estu_depto_reside  cole_cod_mcpio_ubicacion  \\\n",
      "0                        52            NARIÑO                     52001   \n",
      "1                        19             CAUCA                     19001   \n",
      "2                        11            BOGOTÁ                     11001   \n",
      "3                         5         ANTIOQUIA                      5234   \n",
      "4                        27             CHOCO                     27361   \n",
      "\n",
      "  cole_genero cole_jornada cole_naturaleza  ... fami_cuartoshogar  \\\n",
      "0       MIXTO       MAÑANA      NO OFICIAL  ...              Tres   \n",
      "1       MIXTO       MAÑANA         OFICIAL  ...             Cinco   \n",
      "2       MIXTO        TARDE         OFICIAL  ...            Cuatro   \n",
      "3       MIXTO     SABATINA         OFICIAL  ...               Uno   \n",
      "4       MIXTO       MAÑANA         OFICIAL  ...               Dos   \n",
      "\n",
      "                    fami_educacionmadre                 fami_educacionpadre  \\\n",
      "0        Educación profesional completa    Técnica o tecnológica incompleta   \n",
      "1        Educación profesional completa  Secundaria (Bachillerato) completa   \n",
      "2  Secundaria (Bachillerato) incompleta                   Primaria completa   \n",
      "3                   Primaria incompleta                   Primaria completa   \n",
      "4                   Primaria incompleta                             Ninguno   \n",
      "\n",
      "  fami_estratovivienda fami_personashogar fami_tieneautomovil  \\\n",
      "0            Estrato 3              3 a 4                  Si   \n",
      "1            Estrato 2              7 a 8                  Si   \n",
      "2            Estrato 2              5 a 6                  Si   \n",
      "3            Estrato 1              3 a 4                  No   \n",
      "4            Estrato 1              7 a 8                  No   \n",
      "\n",
      "  fami_tienecomputador fami_tieneinternet fami_tienelavadora punt_global  \n",
      "0                   No                 Si                 Si         303  \n",
      "1                   Si                 Si                 Si         167  \n",
      "2                   Si                 Si                 Si         248  \n",
      "3                   No                 No                 No         183  \n",
      "4                   No                 No                 Si         197  \n",
      "\n",
      "[5 rows x 21 columns]\n"
     ]
    }
   ],
   "source": [
    "import pandas as pd\n",
    "df = pd.read_csv(\"C:/Users/dafef/OneDrive - Universidad de los Andes/Decimo Semestre/Analitica computacional/Proyecto 3 Pruebas Saber 11/Datos_PruebaSaber.csv\")\n",
    "print(df.head())"
   ]
  },
  {
   "cell_type": "code",
   "execution_count": 9,
   "metadata": {},
   "outputs": [
    {
     "name": "stdout",
     "output_type": "stream",
     "text": [
      "4480130\n"
     ]
    }
   ],
   "source": [
    "values = []\n",
    "\n",
    "for i, row in df.iterrows():\n",
    "    value = f\"({row['cole_area_ubicacion']},{row['cole_bilingue']},{row['cole_calendario']},{row['cole_caracter']},{int(row['cole_cod_depto_ubicacion'])},{int(row['cole_cod_depto_ubicacion'])},{row['estu_depto_reside']},{row['cole_cod_mcpio_ubicacion']},{row['cole_genero']},{row['cole_jornada']},{row['cole_naturaleza']},{row['estu_genero']},{row['fami_cuartoshogar']},{row['fami_educacionmadre']},{row['fami_educacionpadre']},{row['fami_estratovivienda']},{row['fami_personashogar']},{row['fami_tieneautomovil']},{row['fami_tienecomputador']},{row['fami_tieneinternet']},{row['fami_tienelavadora']},{int(row['punt_global'])})\"\n",
    "    #print(value)\n",
    "    values.append(value)\n",
    "\n",
    "\n",
    "sql_script += ',\\n'.join(values)+';'\n",
    "print(len(values))"
   ]
  },
  {
   "cell_type": "code",
   "execution_count": 10,
   "metadata": {},
   "outputs": [],
   "source": [
    "with open(\"C:/Users/dafef/OneDrive - Universidad de los Andes/Decimo Semestre/Analitica computacional/Proyecto 3 Pruebas Saber 11/datapruebasaber.sql\", \"w\")as sql_file:\n",
    "    sql_file.write(sql_script)"
   ]
  },
  {
   "cell_type": "code",
   "execution_count": 19,
   "metadata": {},
   "outputs": [],
   "source": [
    "import psycopg2\n",
    "engine = psycopg2.connect(\n",
    "    dbname=\"datapruebasaber\",\n",
    "    user=\"postgres\",\n",
    "    password=\"proyectopruebasaber\",\n",
    "    host=\"danielchristerproyecto3.cpucxidqdwyr.us-east-1.rds.amazonaws.com\",\n",
    "    port='5432'\n",
    ")"
   ]
  },
  {
   "cell_type": "code",
   "execution_count": 20,
   "metadata": {},
   "outputs": [],
   "source": [
    "cursor = engine.cursor()"
   ]
  },
  {
   "cell_type": "code",
   "execution_count": 21,
   "metadata": {},
   "outputs": [
    {
     "data": {
      "text/plain": [
       "[]"
      ]
     },
     "execution_count": 21,
     "metadata": {},
     "output_type": "execute_result"
    }
   ],
   "source": [
    "query = \"\"\"\n",
    "SELECT *\n",
    "FROM datapruebasaber\n",
    ";\"\"\"\n",
    "cursor.execute(query)\n",
    "result = cursor.fetchall()\n",
    "result"
   ]
  }
 ],
 "metadata": {
  "kernelspec": {
   "display_name": ".venv",
   "language": "python",
   "name": "python3"
  },
  "language_info": {
   "codemirror_mode": {
    "name": "ipython",
    "version": 3
   },
   "file_extension": ".py",
   "mimetype": "text/x-python",
   "name": "python",
   "nbconvert_exporter": "python",
   "pygments_lexer": "ipython3",
   "version": "3.9.12"
  },
  "orig_nbformat": 4
 },
 "nbformat": 4,
 "nbformat_minor": 2
}
